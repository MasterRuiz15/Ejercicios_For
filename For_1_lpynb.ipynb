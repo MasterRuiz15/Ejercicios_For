{
  "nbformat": 4,
  "nbformat_minor": 0,
  "metadata": {
    "colab": {
      "provenance": [],
      "authorship_tag": "ABX9TyOGQx5/A8aO4dVriMPQ1bk2",
      "include_colab_link": true
    },
    "kernelspec": {
      "name": "python3",
      "display_name": "Python 3"
    },
    "language_info": {
      "name": "python"
    }
  },
  "cells": [
    {
      "cell_type": "markdown",
      "metadata": {
        "id": "view-in-github",
        "colab_type": "text"
      },
      "source": [
        "<a href=\"https://colab.research.google.com/github/MasterRuiz15/Ejercicios_For/blob/main/For_1_lpynb.ipynb\" target=\"_parent\"><img src=\"https://colab.research.google.com/assets/colab-badge.svg\" alt=\"Open In Colab\"/></a>"
      ]
    },
    {
      "cell_type": "markdown",
      "source": [
        "# Estructura repetitiva For\n",
        "\n",
        "La instrucción for es una estructura de control utilizada en muchos lenguajes de programación para iterar sobre una secuencia de elementos. En Python, se utiliza principalmente en combinación con la función range() o con listas, tuplas, diccionarios u otros tipos de datos iterables.\n",
        "\n",
        "Unos de estos ejemplos son:\n"
      ],
      "metadata": {
        "id": "JY6O17V6TGzT"
      }
    },
    {
      "cell_type": "code",
      "source": [
        "frutas = [\"manzana\", \"banana\", \"cereza\"]\n",
        "\n",
        "for fruta in frutas: print(fruta)"
      ],
      "metadata": {
        "id": "4-t8sANZRGZA"
      },
      "execution_count": null,
      "outputs": []
    },
    {
      "cell_type": "markdown",
      "source": [
        "# La Instruccion Range\n",
        "La función range() es muy útil para generar secuencias de números en bucles, pero ten en cuenta que en Python 3, range() devuelve un objeto de tipo range, no una lista de números. Sin embargo, puedes convertirlo fácilmente en una lista usando list(), si necesitas trabajar con la secuencia como una lista real.\n",
        "\n",
        "Unos de estos ejemplos son:\n"
      ],
      "metadata": {
        "id": "QZ51eO3EYn00"
      }
    },
    {
      "cell_type": "code",
      "source": [
        "for i in range(1, 10, 2):\n",
        "    print(i)"
      ],
      "metadata": {
        "id": "WeTd7ER0RTam"
      },
      "execution_count": null,
      "outputs": []
    },
    {
      "cell_type": "code",
      "source": [
        "# Ejercicio No. 1: Mostrar la suma de los 10 rimeros numeros naturales, usando las instrucciones for y range\n",
        "print(\"Bienvenidos a Google Colaboratory\")\n",
        "\n",
        "# input\n",
        "\n",
        "# Processing\n",
        "suma = 0\n",
        "serie = list(range(1,101))\n",
        "for i in range(1,101):\n",
        "  suma = suma + i\n",
        "\n",
        "# output\n",
        "print(\"La suma es: \" + str(suma))\n",
        "print(serie)"
      ],
      "metadata": {
        "id": "093UJvnXShrP"
      },
      "execution_count": null,
      "outputs": []
    },
    {
      "cell_type": "code",
      "source": [
        "# Ejercicio No . 2: Mostrar los numeros del 1 al 10, sin usar instrucciones repetitivas\n",
        "\n",
        "print(1)\n",
        "print(2)\n",
        "print(3)\n",
        "print(4)\n",
        "print(5)\n",
        "print(6)\n",
        "print(7)\n",
        "print(8)\n",
        "print(9)\n",
        "print(10)"
      ],
      "metadata": {
        "id": "V-91iDPPPDtR"
      },
      "execution_count": null,
      "outputs": []
    },
    {
      "cell_type": "code",
      "source": [
        "\n",
        "# Ejercicio No. 3: Mostrar los numeros del 1 al 10, usando la instruccion while\n",
        "\n",
        "i = 1\n",
        "while (i <= 10):\n",
        "  print(i)\n",
        "  i = i + 1"
      ],
      "metadata": {
        "id": "qczwWgYrPjtS"
      },
      "execution_count": null,
      "outputs": []
    },
    {
      "cell_type": "code",
      "source": [
        "# Ejercicio No. 4: Mostrar los numeros del numero del 1 al 10, usando las instrucciones for y range\n",
        "\n",
        "for i in range(1,11):\n",
        "  print(i)"
      ],
      "metadata": {
        "id": "ryl9pIL7QJ7r"
      },
      "execution_count": null,
      "outputs": []
    },
    {
      "cell_type": "code",
      "source": [
        "# Ejercicio No. 5: Mostrar los numeros del 1 al 10, usando la instruccion for y una lista\n",
        "\n",
        "mi_lista = [1,2,3,4,5,6,7,8,9,10]\n",
        "for i in mi_lista:\n",
        "  print(i)"
      ],
      "metadata": {
        "id": "EvM8kTmGQfCe"
      },
      "execution_count": null,
      "outputs": []
    },
    {
      "cell_type": "code",
      "source": [
        "# Ejercicio No. 6: Mostrar una frase 10 veces, usando la instruccion for y una lista\n",
        "\n",
        "mi_lista = (1,2,3,4,5,6,7,8,9,10)\n",
        "for i in mi_lista:\n",
        "  print(f\"{i} Guanenta 200 años!\")"
      ],
      "metadata": {
        "id": "fsijM18jWS1c"
      },
      "execution_count": null,
      "outputs": []
    },
    {
      "cell_type": "code",
      "source": [
        "# Ejercicio No. 7: Mostrar la silaba inicial de los dias de la semana, usando for y una lista\n",
        "\n",
        "dias_semana = [\"Lu\",\"Ma\",\"Mi\",\"Ju\",\"Vi\",\"Sa\",\"Do\"]\n",
        "for i in dias_semana:\n",
        "  print(i)"
      ],
      "metadata": {
        "id": "KTLUQxvYVC_W"
      },
      "execution_count": null,
      "outputs": []
    },
    {
      "cell_type": "code",
      "source": [
        "# Ejercicio No. 8: Mostrar una lista de tipos de datos, usando la instruccion for\n",
        "\n",
        "mi_listica = [1, 3.14, 9, True, \"Andres\", 8 , \"Guanenta\"]\n",
        "for i in mi_listica:\n",
        "  print(i)"
      ],
      "metadata": {
        "id": "g7l9dlSOVwmf"
      },
      "execution_count": null,
      "outputs": []
    },
    {
      "cell_type": "code",
      "source": [
        "# Ejercicio No. 9: Ingresar su nombre y mostrarlo letra a letra, usando la instruccion for\n",
        "\n",
        "nombre = input(\"Digite su nombre: \")\n",
        "\n",
        "for i in nombre:\n",
        "  print(i)"
      ],
      "metadata": {
        "id": "ba4WrfwjZz_X"
      },
      "execution_count": null,
      "outputs": []
    },
    {
      "cell_type": "code",
      "source": [
        "# Ejercicio No. 10: Ingresar su nombre y mostrarlo letra a letra, usando la instruccion for, reemplazando la vocal \"a\"\n",
        "\n",
        "nombre = input(\"Digite su nombre: \")\n",
        "\n",
        "for i in nombre:\n",
        "  if i == \"a\":\n",
        "    print(\"*\")\n",
        "  else:\n",
        "    print(i)"
      ],
      "metadata": {
        "id": "bwH6f34FY5CI"
      },
      "execution_count": null,
      "outputs": []
    },
    {
      "cell_type": "code",
      "source": [
        "# Ejercicio No. 11: Ingrese su nombre y mostrarlo letra a letra en mayuscula, usando la instruccion for\n",
        "\n",
        "nombre = input(\"Digite su nombre: \")\n",
        "\n",
        "for i in nombre:\n",
        "  print(i.upper())"
      ],
      "metadata": {
        "id": "TPx9JxE9bGsr"
      },
      "execution_count": null,
      "outputs": []
    },
    {
      "cell_type": "code",
      "source": [
        "# Ejercicio No. 12: Dada Dada la siguiente lista de números [20,21,30,41,50,51,20], mostrar en pantalla solo los que no terminan en uno (1).\n",
        "\n",
        "mi_lista = [20, 21, 30, 41, 50, 51, 20]\n",
        "\n",
        "for i in mi_lista:\n",
        "  if i % 10 != 1:\n",
        "      print(i)"
      ],
      "metadata": {
        "id": "iMbpGKJnbxO_"
      },
      "execution_count": null,
      "outputs": []
    },
    {
      "cell_type": "code",
      "source": [
        "# Ejercicio No. 13: Mostrar \"Programacion\" mil veces, usando la instruccion for.\n",
        "\n",
        "for i in range(1000):\n",
        "  print(f\"{i} Programación\")"
      ],
      "metadata": {
        "id": "uZvuqcDYGQXp"
      },
      "execution_count": null,
      "outputs": []
    },
    {
      "cell_type": "code",
      "source": [
        "# Ejercicio No. 14: Del conjunto de cadenas [\"E\", \"F\", \"M\", \"A\"] que corresponde a las iniciales de los 4 primeros meses del año, mostrar el nombre completo de dichos meses.\n",
        "\n",
        "mi_lista = [\"E\", \"F\", \"M\", \"A\"]\n",
        "\n",
        "for i in mi_lista:\n",
        "  if i == \"E\":\n",
        "    print(\"Enero\")\n",
        "\n",
        "  elif i == \"F\":\n",
        "    print(\"Febrero\")\n",
        "\n",
        "  elif i == \"M\":\n",
        "    print(\"Marzo\")\n",
        "\n",
        "  elif i == \"A\":\n",
        "    print(\"Abril\")"
      ],
      "metadata": {
        "id": "Nb2E5khvMYhE"
      },
      "execution_count": null,
      "outputs": []
    },
    {
      "cell_type": "code",
      "source": [
        "# Ejercicio No. 15: Leer un texto y determinar cuántas veces dicho texto contiene cada una de las vocales en minúscula y mayúscula.\n",
        "\n",
        "texto = input(\"Digite el texto: \")\n",
        "\n",
        "MAYUSCULA = [\"A\",\"E\",\"I\",\"O\",\"U\"]\n",
        "minuscula = [\"a\",\"e\",\"i\",\"o\",\"u\"]\n",
        "\n",
        "a = 0\n",
        "A = 0\n",
        "e = 0\n",
        "E = 0\n",
        "ii = 0\n",
        "I = 0\n",
        "o = 0\n",
        "O = 0\n",
        "u = 0\n",
        "U = 0\n",
        "\n",
        "for i in texto:\n",
        "  if i == \"a\":\n",
        "    a += 1\n",
        "  elif i == \"A\":\n",
        "    A += 1\n",
        "  elif i == \"e\":\n",
        "    e += 1\n",
        "  elif i == \"E\":\n",
        "    E += 1\n",
        "  elif i == \"i\":\n",
        "    ii += 1\n",
        "  elif i == \"I\":\n",
        "    I += 1\n",
        "  elif i == \"o\":\n",
        "    o += 1\n",
        "  elif i == \"O\":\n",
        "    O += 1\n",
        "  elif i == \"u\":\n",
        "    u += 1\n",
        "  elif i == \"U\":\n",
        "    U += 1\n",
        "\n",
        "print(\"En su texto hay \" + str(a) + \" a\" \" minusculas\")\n",
        "print(\"En su texto hay \" + str(A) + \" A\" \" Mayusculas\")\n",
        "print(\"En su texto hay \" + str(e) + \" e\" \" minusculas\")\n",
        "print(\"En su texto hay \" + str(E) + \" E\" \" Mayusculas\")\n",
        "print(\"En su texto hay \" + str(ii) + \" i\" \" minusculas\")\n",
        "print(\"En su texto hay \" + str(I) + \" I\" \" Mayusculas\")\n",
        "print(\"En su texto hay \" + str(o) + \" o\" \" minusculas\")\n",
        "print(\"En su texto hay \" + str(O) + \" O\" \" Mayusculas\")\n",
        "print(\"En su texto hay \" + str(u) + \" u\" \" minusculas\")\n",
        "print(\"En su texto hay \" + str(U) + \" U\" \" Mayusculas\")"
      ],
      "metadata": {
        "id": "zpxWEtpGPA0b"
      },
      "execution_count": null,
      "outputs": []
    },
    {
      "cell_type": "markdown",
      "source": [
        "# Ejercicio No. 16: Consulte cómo se representa en un diagrama de flujo la instrucción repetitiva for.  Agregue lo consultado en el archivo README del respositorio, o en una celta de texto del cuaderno de Google Colab.\n",
        "\n",
        "Cualquier problema que requiera una estructura repetitiva se puede resolver empleando la estructura Do While (condición) ... Loop. Pero hay otra estructura repetitiva cuyo planteo es más sencillo en ciertas situaciones.\n",
        "En general, la estructura For... Next se usa en aquellas situaciones en las cuales CONOCEMOS la cantidad de veces que queremos que se ejecute el bloque de instrucciones. Ejemplo: Desarrollar un programa que permita la carga de 10 valores por teclado y nos muestre posteriormente la suma de los valores ingresados y su promedio. Este problema ya lo desarrollamos, lo resolveremos empleando la estructura for.\n",
        "\n",
        "\n",
        "Representación gráfica:\n",
        "\n",
        "Module Module1\n",
        "\n",
        "    Sub Main()\n",
        "        Dim suma, f, valor, promedio As Integer\n",
        "        suma = 0\n",
        "        For f = 1 To 10\n",
        "            Console.Write(\"Ingrese valor:\")\n",
        "            valor = Console.ReadLine()\n",
        "            suma = suma + valor\n",
        "        Next\n",
        "        Console.Write(\"La suma es:\")\n",
        "        Console.WriteLine(suma)\n",
        "        promedio = suma / 10\n",
        "        Console.Write(\"El promedio es:\")\n",
        "        Console.Write(promedio)\n",
        "        Console.ReadKey()\n",
        "    End Sub\n",
        "\n",
        "End Module\n",
        "\n",
        "\n"
      ],
      "metadata": {
        "id": "S9fnep-LeJkt"
      }
    },
    {
      "cell_type": "code",
      "source": [
        "# Ejercicio No. 17: Leer 20 números enteros y averiguar cuántos son pares y cuántos son impares.\n",
        "pares = 0\n",
        "impares = 0\n",
        "\n",
        "for i in range(20):\n",
        "  numero = int(input(\"Introduce un numero entero: \"))\n",
        "  if numero % 2 == 0:\n",
        "    pares += 1\n",
        "  else:\n",
        "    impares += 1\n",
        "\n",
        "print(\"Cantidad de numeros pares:\", pares)\n",
        "print(\"Cantidad de numeros impares:\", impares)"
      ],
      "metadata": {
        "id": "qZDHOci6PBWH"
      },
      "execution_count": null,
      "outputs": []
    },
    {
      "cell_type": "code",
      "source": [
        "# Ejercicio No. 18: Programa que averigüe e imprima cuántos múltiplos de 7, y cuántos múltiplos de 9, hay en los números comprendidos entre 1000 y 5000.\n",
        "\n",
        "rango_inicial = 1000\n",
        "rango_final = 5000\n",
        "\n",
        "multiplos_de_7 = 0\n",
        "multiplos_de_9 = 0\n",
        "\n",
        "for i in range(rango_inicial, rango_final + 1):\n",
        "    if i % 7 == 0:\n",
        "        multiplos_de_7 += 1\n",
        "    if i % 9 == 0:\n",
        "        multiplos_de_9 += 1\n",
        "\n",
        "print(\"Cantidad de múltiplos de 7 entre 1000 y 5000:\", multiplos_de_7)\n",
        "print(\"Cantidad de múltiplos de 9 entre 1000 y 5000:\", multiplos_de_9)"
      ],
      "metadata": {
        "id": "A0B2MbW8ZuPb"
      },
      "execution_count": null,
      "outputs": []
    },
    {
      "cell_type": "code",
      "source": [
        "# Ejercicio No. 19: Simular el lanzamiento de N dados, y contar cuántas veces cae cada cara, añadiendo un histograma para cada uno.  El histograma puede ser creado con asteriscos o cualquier otro caracter.\n",
        "\n",
        "\n"
      ],
      "metadata": {
        "id": "HUh-sx9wZuiZ"
      },
      "execution_count": null,
      "outputs": []
    },
    {
      "cell_type": "code",
      "source": [
        "# Ejercicio No. 20: Programa para calcular el factorial de un número.  Consulte previamente qué es el factorial de un número.\n"
      ],
      "metadata": {
        "id": "st9vKiocZuzP"
      },
      "execution_count": null,
      "outputs": []
    },
    {
      "cell_type": "code",
      "source": [
        "# Ejercicio No. 21: Crear un programa que imprima la siguiente serie numérica: 1,4,9,16,25,36,49,64,81,100\n",
        "mi_list = [1,4,9,16,25,36,49,64,81,100]\n",
        "for i in mi_list:\n",
        "  print(i)"
      ],
      "metadata": {
        "id": "uW1mEo6VZvGw"
      },
      "execution_count": null,
      "outputs": []
    }
  ]
}